{
 "cells": [
  {
   "cell_type": "code",
   "execution_count": 2,
   "id": "d1512017-d141-4c02-8813-8231e7674320",
   "metadata": {},
   "outputs": [
    {
     "name": "stdout",
     "output_type": "stream",
     "text": [
      "Theoretical Mean (μ): Rs. 4000\n",
      "Sample Mean (x̄): Rs. 3050\n",
      "Standard Error (SE): 25.00\n",
      "Z Test Statistic: -38.00\n",
      "Critical Z Value at α = 0.05: 1.64\n",
      "Fail to reject the null hypothesis: No strong evidence that weekly costs are higher.\n"
     ]
    }
   ],
   "source": [
    "import math\n",
    "from scipy.stats import norm\n",
    "\n",
    "# Given values\n",
    "sample_mean = 3050              # x̄\n",
    "units_mean = 600                # μ of X\n",
    "std_dev_X = 25                  # σ of X\n",
    "sample_size = 25                # n\n",
    "\n",
    "# Theoretical weekly cost based on model:\n",
    "# W = 1000 + 5X --> For X = 600\n",
    "theoretical_mean = 1000 + 5 * units_mean  # μ = 4000\n",
    "\n",
    "# Standard deviation of W is from 5 * std_dev of X\n",
    "std_dev_W = 5 * std_dev_X       # σ = 5*25 = 125\n",
    "\n",
    "# Standard Error (SE)\n",
    "se = std_dev_W / math.sqrt(sample_size)\n",
    "\n",
    "# Calculate Test Statistic (Z)\n",
    "z = (sample_mean - theoretical_mean) / se\n",
    "\n",
    "# Determine critical value for one-tailed test at alpha = 0.05\n",
    "alpha = 0.05\n",
    "z_critical = norm.ppf(1 - alpha)  # one-tailed right test\n",
    "\n",
    "# Output results\n",
    "print(f\"Theoretical Mean (μ): Rs. {theoretical_mean}\")\n",
    "print(f\"Sample Mean (x̄): Rs. {sample_mean}\")\n",
    "print(f\"Standard Error (SE): {se:.2f}\")\n",
    "print(f\"Z Test Statistic: {z:.2f}\")\n",
    "print(f\"Critical Z Value at α = 0.05: {z_critical:.2f}\")\n",
    "\n",
    "# Decision\n",
    "if z > z_critical:\n",
    "    print(\"Reject the null hypothesis: There is strong evidence that weekly costs are higher.\")\n",
    "else:\n",
    "    print(\"Fail to reject the null hypothesis: No strong evidence that weekly costs are higher.\")"
   ]
  },
  {
   "cell_type": "code",
   "execution_count": 8,
   "id": "c5104c88-a9e0-4047-8853-7466153d8d94",
   "metadata": {},
   "outputs": [
    {
     "name": "stdout",
     "output_type": "stream",
     "text": [
      "Contingency Table:\n",
      "                   Smart Thermostat  Smart Light\n",
      "Very Satisfied                  50           70\n",
      "Satisfied                       80          100\n",
      "Neutral                         60           90\n",
      "Unsatisfied                     30           50\n",
      "Very Unsatisfied                20           50\n",
      "\n",
      "Expected Frequencies:\n",
      "                   Smart Thermostat  Smart Light\n",
      "Very Satisfied                48.0         72.0\n",
      "Satisfied                     72.0        108.0\n",
      "Neutral                       60.0         90.0\n",
      "Unsatisfied                   32.0         48.0\n",
      "Very Unsatisfied              28.0         42.0\n",
      "\n",
      "Chi-Square Statistic: 5.64\n",
      "Degrees of Freedom: 4\n",
      "P-value: 0.2278\n",
      "Critical Value at α = 0.05: 9.49\n",
      "Fail to reject the null hypothesis: No significant association between device type and satisfaction level.\n"
     ]
    }
   ],
   "source": [
    "import numpy as np\n",
    "import pandas as pd\n",
    "from scipy.stats import chi2_contingency, chi2\n",
    "\n",
    "# Step 1: Input contingency table\n",
    "data = [\n",
    "    [50, 70],   # Very Satisfied\n",
    "    [80, 100],  # Satisfied\n",
    "    [60, 90],   # Neutral\n",
    "    [30, 50],   # Unsatisfied\n",
    "    [20, 50]    # Very Unsatisfied\n",
    "]\n",
    "\n",
    "# Convert to DataFrame for better readability\n",
    "df = pd.DataFrame(data, columns=[\"Smart Thermostat\", \"Smart Light\"],\n",
    "                  index=[\"Very Satisfied\", \"Satisfied\", \"Neutral\", \"Unsatisfied\", \"Very Unsatisfied\"])\n",
    "\n",
    "print(\"Contingency Table:\\n\", df)\n",
    "\n",
    "# Step 2: Chi-Square Test\n",
    "chi2_stat, p_val, dof, expected = chi2_contingency(df)\n",
    "\n",
    "print(\"\\nExpected Frequencies:\\n\", pd.DataFrame(expected, index=df.index, columns=df.columns))\n",
    "print(f\"\\nChi-Square Statistic: {chi2_stat:.2f}\")\n",
    "print(f\"Degrees of Freedom: {dof}\")\n",
    "print(f\"P-value: {p_val:.4f}\")\n",
    "\n",
    "# Step 3: Critical value at alpha = 0.05\n",
    "alpha = 0.05\n",
    "critical_val = chi2.ppf(1 - alpha, dof)\n",
    "\n",
    "print(f\"Critical Value at α = 0.05: {critical_val:.2f}\")\n",
    "\n",
    "# Step 4: Decision\n",
    "if chi2_stat > critical_val:\n",
    "    print(\"Reject the null hypothesis: There is a significant association between device type and satisfaction level.\")\n",
    "else:\n",
    "    print(\"Fail to reject the null hypothesis: No significant association between device type and satisfaction level.\")"
   ]
  }
 ],
 "metadata": {
  "kernelspec": {
   "display_name": "Python [conda env:base] *",
   "language": "python",
   "name": "conda-base-py"
  },
  "language_info": {
   "codemirror_mode": {
    "name": "ipython",
    "version": 3
   },
   "file_extension": ".py",
   "mimetype": "text/x-python",
   "name": "python",
   "nbconvert_exporter": "python",
   "pygments_lexer": "ipython3",
   "version": "3.12.7"
  }
 },
 "nbformat": 4,
 "nbformat_minor": 5
}
