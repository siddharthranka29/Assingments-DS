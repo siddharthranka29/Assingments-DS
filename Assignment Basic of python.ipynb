{
 "cells": [
  {
   "cell_type": "code",
   "execution_count": 1,
   "id": "06450f69-718e-4e7a-8ff0-052e83bae7d0",
   "metadata": {},
   "outputs": [
    {
     "name": "stdin",
     "output_type": "stream",
     "text": [
      "Enter a number:  5\n"
     ]
    },
    {
     "name": "stdout",
     "output_type": "stream",
     "text": [
      "5 is a prime number.\n"
     ]
    }
   ],
   "source": [
    "#Prime Numbers\n",
    "import pandas as pd\n",
    "def is_prime(n):\n",
    "    if n <= 1:\n",
    "        return False\n",
    "    if n == 2:\n",
    "        return True\n",
    "    if n % 2 == 0:\n",
    "        return False\n",
    "\n",
    "    # Check for factors from 3 to sqrt(n), skipping even numbers\n",
    "    for i in range(3, int(n**0.5) + 1, 2):\n",
    "        if n % i == 0:\n",
    "            return False\n",
    "    return True\n",
    "\n",
    "# Example usage\n",
    "number = int(input(\"Enter a number: \"))\n",
    "if is_prime(number):\n",
    "    print(f\"{number} is a prime number.\")\n",
    "else:\n",
    "    print(f\"{number} is not a prime number.\")"
   ]
  },
  {
   "cell_type": "code",
   "execution_count": 2,
   "id": "62494949-dfb4-4b82-a2fc-1a0ba4a93020",
   "metadata": {},
   "outputs": [
    {
     "name": "stdout",
     "output_type": "stream",
     "text": [
      "what is the product of 78 and 13\n"
     ]
    },
    {
     "name": "stdin",
     "output_type": "stream",
     "text": [
      "your answer: 5555\n"
     ]
    },
    {
     "name": "stdout",
     "output_type": "stream",
     "text": [
      "Incorrect. the correct answer is 1014.\n"
     ]
    }
   ],
   "source": [
    "#Product of Random Numbers\n",
    "import pandas as pd\n",
    "import random\n",
    "#two random integers\n",
    "num1=random.randint(1,100)\n",
    "num2=random.randint(1,100)\n",
    "#calculate the product\n",
    "print(f\"what is the product of {num1} and {num2}\")\n",
    "user_answer=int(input(\"your answer:\"))\n",
    "correct_answer=num1*num2\n",
    "if user_answer == correct_answer:\n",
    "    print(\"Correct! Well Done.\")\n",
    "else:\n",
    "    print(f\"Incorrect. the correct answer is {correct_answer}.\")"
   ]
  },
  {
   "cell_type": "code",
   "execution_count": 3,
   "id": "10498cac-276d-4662-b8b2-73fb8dfba504",
   "metadata": {},
   "outputs": [
    {
     "name": "stdout",
     "output_type": "stream",
     "text": [
      "101^2=10201\n",
      "103^2=10609\n",
      "105^2=11025\n",
      "107^2=11449\n",
      "109^2=11881\n",
      "111^2=12321\n",
      "113^2=12769\n",
      "115^2=13225\n",
      "117^2=13689\n",
      "119^2=14161\n",
      "121^2=14641\n",
      "123^2=15129\n",
      "125^2=15625\n",
      "127^2=16129\n",
      "129^2=16641\n",
      "131^2=17161\n",
      "133^2=17689\n",
      "135^2=18225\n",
      "137^2=18769\n",
      "139^2=19321\n",
      "141^2=19881\n",
      "143^2=20449\n",
      "145^2=21025\n",
      "147^2=21609\n",
      "149^2=22201\n",
      "151^2=22801\n",
      "153^2=23409\n",
      "155^2=24025\n",
      "157^2=24649\n",
      "159^2=25281\n",
      "161^2=25921\n",
      "163^2=26569\n",
      "165^2=27225\n",
      "167^2=27889\n",
      "169^2=28561\n",
      "171^2=29241\n",
      "173^2=29929\n",
      "175^2=30625\n",
      "177^2=31329\n",
      "179^2=32041\n",
      "181^2=32761\n",
      "183^2=33489\n",
      "185^2=34225\n",
      "187^2=34969\n",
      "189^2=35721\n",
      "191^2=36481\n",
      "193^2=37249\n",
      "195^2=38025\n",
      "197^2=38809\n",
      "199^2=39601\n"
     ]
    }
   ],
   "source": [
    "#Squares of Even/Odd Numbers\n",
    "for number in range(100,201):\n",
    "    if number %2!=0:\n",
    "        square=number**2\n",
    "        print(f\"{number}^2={square}\")\n",
    "        #to switch to even (number%2==0)"
   ]
  },
  {
   "cell_type": "code",
   "execution_count": 4,
   "id": "ab612ff1-d33f-499a-b9c9-9604f1547cb4",
   "metadata": {},
   "outputs": [
    {
     "name": "stdout",
     "output_type": "stream",
     "text": [
      "'This': 1\n",
      "'is': 1\n",
      "'a': 1\n",
      "'sample': 1\n",
      "'text.': 1\n",
      "'Hi': 1\n",
      "'My': 1\n",
      "'Name': 1\n",
      "'Is': 1\n",
      "'Siddharth': 1\n"
     ]
    }
   ],
   "source": [
    "#Word counter\n",
    "input_text = \"This is a sample text. Hi My Name Is Siddharth\"\n",
    "words = input_text.split()\n",
    "word_count = {}\n",
    "for word in words:\n",
    "    word_count[word] = word_count.get(word, 0) + 1\n",
    "for word, count in word_count.items():\n",
    "    print(f\"'{word}': {count}\")"
   ]
  },
  {
   "cell_type": "code",
   "execution_count": 17,
   "id": "0604fe47-61a2-4ee9-b92e-f7b94309ef82",
   "metadata": {},
   "outputs": [],
   "source": [
    "#Check for Palindrome\n",
    "import pandas as pd\n",
    "import re\n",
    "def is_palindrome(text):\n",
    "    cleaned=re.sub(r'[^A-Za-z0-9]','',text).lower()\n",
    "    return cleaned==cleaned[::-1]"
   ]
  },
  {
   "cell_type": "code",
   "execution_count": 21,
   "id": "c738de22-a0e3-40a4-9c70-b45ddc74b9d1",
   "metadata": {},
   "outputs": [
    {
     "name": "stdout",
     "output_type": "stream",
     "text": [
      "True\n",
      "True\n",
      "True\n",
      "False\n"
     ]
    }
   ],
   "source": [
    "#examples\n",
    "print(is_palindrome(\"madam\"))  \n",
    "print(is_palindrome(\"racecar\"))                         \n",
    "print(is_palindrome(\"level\"))     \n",
    "print(is_palindrome(\"hello, world!\"))"
   ]
  }
 ],
 "metadata": {
  "kernelspec": {
   "display_name": "Python [conda env:base] *",
   "language": "python",
   "name": "conda-base-py"
  },
  "language_info": {
   "codemirror_mode": {
    "name": "ipython",
    "version": 3
   },
   "file_extension": ".py",
   "mimetype": "text/x-python",
   "name": "python",
   "nbconvert_exporter": "python",
   "pygments_lexer": "ipython3",
   "version": "3.12.7"
  }
 },
 "nbformat": 4,
 "nbformat_minor": 5
}
